{
 "cells": [
  {
   "cell_type": "markdown",
   "metadata": {},
   "source": [
    "<h1><center>Lab 2: Classification</center></h1>\n",
    "<h3><center>A Deeper Analysis of Covid-19 Data</center></h3>\n",
    "<p><center>DS 7331</center></p>\n",
    "<p><center>Created by Sadik Aman, Dawn Bowerman, Zachary Harris, Alexandre Jasserme</center></p>\n",
    "\n",
    "<p><center>Sections of this code was adapted from: \n",
    "    <li>https://github.com/jakemdrew/DataMiningNotebooks</li>"
   ]
  },
  {
   "cell_type": "code",
   "execution_count": 1,
   "metadata": {},
   "outputs": [
    {
     "name": "stdout",
     "output_type": "stream",
     "text": [
      "<class 'pandas.core.frame.DataFrame'>\n",
      "RangeIndex: 34965 entries, 0 to 34964\n",
      "Data columns (total 26 columns):\n",
      " #   Column                          Non-Null Count  Dtype  \n",
      "---  ------                          --------------  -----  \n",
      " 0   continent                       34965 non-null  object \n",
      " 1   location                        34965 non-null  object \n",
      " 2   date                            34965 non-null  object \n",
      " 3   new_cases                       34965 non-null  float64\n",
      " 4   new_cases_smoothed              34965 non-null  float64\n",
      " 5   new_deaths                      34965 non-null  float64\n",
      " 6   new_deaths_smoothed             34965 non-null  float64\n",
      " 7   reproduction_rate               34965 non-null  float64\n",
      " 8   new_vaccinations_smoothed       34965 non-null  float64\n",
      " 9   new_people_vaccinated_smoothed  34965 non-null  float64\n",
      " 10  stringency_index                34965 non-null  float64\n",
      " 11  population                      34965 non-null  int64  \n",
      " 12  population_density              34965 non-null  float64\n",
      " 13  median_age                      34965 non-null  float64\n",
      " 14  aged_65_older                   34965 non-null  float64\n",
      " 15  aged_70_older                   34965 non-null  float64\n",
      " 16  gdp_per_capita                  34965 non-null  float64\n",
      " 17  cardiovasc_death_rate           34965 non-null  float64\n",
      " 18  diabetes_prevalence             34965 non-null  float64\n",
      " 19  handwashing_facilities          34965 non-null  float64\n",
      " 20  hospital_beds_per_thousand      34965 non-null  float64\n",
      " 21  life_expectancy                 34965 non-null  float64\n",
      " 22  human_development_index         34965 non-null  float64\n",
      " 23  stringency_range                34944 non-null  object \n",
      " 24  new_cases_range                 34965 non-null  object \n",
      " 25  new_deaths_range                34965 non-null  object \n",
      "dtypes: float64(19), int64(1), object(6)\n",
      "memory usage: 6.9+ MB\n"
     ]
    }
   ],
   "source": [
    "from __future__ import print_function\n",
    "\n",
    "#Libraries\n",
    "import plotly\n",
    "import numpy as np\n",
    "import matplotlib.pyplot as plt\n",
    "import seaborn as sns\n",
    "import pandas as pd\n",
    "import sqlite3\n",
    "from sklearn import datasets, linear_model\n",
    "from sklearn.metrics import mean_squared_error, r2_score\n",
    "from matplotlib.pyplot import figure\n",
    "from sklearn.model_selection import TimeSeriesSplit\n",
    "# run logistic regression and vary some parameters\n",
    "from sklearn.linear_model import LogisticRegression\n",
    "from sklearn.model_selection import KFold\n",
    "from sklearn.linear_model import LinearRegression\n",
    "from sklearn import metrics as mt\n",
    "from sklearn.metrics import mean_absolute_error, make_scorer, mean_squared_error\n",
    "from sklearn.model_selection import ShuffleSplit\n",
    "\n",
    "df = pd.read_csv('Data/owid-covid-data_modified.csv') # read in the csv file\n",
    "df.info()"
   ]
  },
  {
   "cell_type": "markdown",
   "metadata": {},
   "source": [
    "## Data Preparation "
   ]
  },
  {
   "cell_type": "markdown",
   "metadata": {},
   "source": [
    "> [10 points] Define and prepare your class variables. Use proper variable representations\n",
    "(int, float, one-hot, etc.). Use pre-processing methods (as needed) for dimensionality\n",
    "reduction, scaling, etc. Remove variables that are not needed/useful for the analysis."
   ]
  },
  {
   "cell_type": "code",
   "execution_count": 2,
   "metadata": {},
   "outputs": [
    {
     "name": "stdout",
     "output_type": "stream",
     "text": [
      "<class 'pandas.core.frame.DataFrame'>\n",
      "Int64Index: 34965 entries, 0 to 34964\n",
      "Data columns (total 26 columns):\n",
      " #   Column                          Non-Null Count  Dtype         \n",
      "---  ------                          --------------  -----         \n",
      " 0   continent                       34965 non-null  object        \n",
      " 1   location                        34965 non-null  object        \n",
      " 2   date                            34965 non-null  datetime64[ns]\n",
      " 3   new_cases                       34965 non-null  float64       \n",
      " 4   new_cases_smoothed              34965 non-null  float64       \n",
      " 5   new_deaths                      34965 non-null  float64       \n",
      " 6   new_deaths_smoothed             34965 non-null  float64       \n",
      " 7   reproduction_rate               34965 non-null  float64       \n",
      " 8   new_vaccinations_smoothed       34965 non-null  float64       \n",
      " 9   new_people_vaccinated_smoothed  34965 non-null  float64       \n",
      " 10  stringency_index                34965 non-null  float64       \n",
      " 11  population                      34965 non-null  int64         \n",
      " 12  population_density              34965 non-null  float64       \n",
      " 13  median_age                      34965 non-null  float64       \n",
      " 14  aged_65_older                   34965 non-null  float64       \n",
      " 15  aged_70_older                   34965 non-null  float64       \n",
      " 16  gdp_per_capita                  34965 non-null  float64       \n",
      " 17  cardiovasc_death_rate           34965 non-null  float64       \n",
      " 18  diabetes_prevalence             34965 non-null  float64       \n",
      " 19  handwashing_facilities          34965 non-null  float64       \n",
      " 20  hospital_beds_per_thousand      34965 non-null  float64       \n",
      " 21  life_expectancy                 34965 non-null  float64       \n",
      " 22  human_development_index         34965 non-null  float64       \n",
      " 23  stringency_range                34944 non-null  object        \n",
      " 24  new_cases_range                 34965 non-null  object        \n",
      " 25  new_deaths_range                34965 non-null  object        \n",
      "dtypes: datetime64[ns](1), float64(19), int64(1), object(5)\n",
      "memory usage: 7.2+ MB\n"
     ]
    }
   ],
   "source": [
    "# Ideas from https://scikit-learn.org/stable/modules/cross_validation.html#timeseries-cv\n",
    "\n",
    "# Sorting data frame by date column\n",
    "df['date'] = pd.to_datetime(df['date']) # Converting data columnn to datetime\n",
    "\n",
    "df = df.sort_values(by='date', ascending=True)\n",
    "\n",
    "df.info()"
   ]
  },
  {
   "cell_type": "code",
   "execution_count": 3,
   "metadata": {},
   "outputs": [
    {
     "name": "stdout",
     "output_type": "stream",
     "text": [
      "<class 'pandas.core.frame.DataFrame'>\n",
      "Int64Index: 34965 entries, 0 to 34964\n",
      "Data columns (total 13 columns):\n",
      " #   Column                      Non-Null Count  Dtype  \n",
      "---  ------                      --------------  -----  \n",
      " 0   new_deaths                  34965 non-null  float64\n",
      " 1   reproduction_rate           34965 non-null  float64\n",
      " 2   new_vaccinations_smoothed   34965 non-null  float64\n",
      " 3   stringency_index            34965 non-null  float64\n",
      " 4   population                  34965 non-null  int64  \n",
      " 5   median_age                  34965 non-null  float64\n",
      " 6   aged_65_older               34965 non-null  float64\n",
      " 7   gdp_per_capita              34965 non-null  float64\n",
      " 8   diabetes_prevalence         34965 non-null  float64\n",
      " 9   handwashing_facilities      34965 non-null  float64\n",
      " 10  hospital_beds_per_thousand  34965 non-null  float64\n",
      " 11  life_expectancy             34965 non-null  float64\n",
      " 12  human_development_index     34965 non-null  float64\n",
      "dtypes: float64(12), int64(1)\n",
      "memory usage: 3.7 MB\n"
     ]
    }
   ],
   "source": [
    "covid_df = df.drop([\"new_deaths_smoothed\",\n",
    "                    \"new_cases\",\n",
    "                    \"new_cases_smoothed\",\n",
    "                    \"continent\",\n",
    "                    \"location\",\n",
    "                    \"stringency_range\",\n",
    "                    \"new_cases_range\",\n",
    "                    \"date\",\n",
    "                    \"new_people_vaccinated_smoothed\",\n",
    "                    \"population_density\",\n",
    "                    \"aged_70_older\",\n",
    "                    \"cardiovasc_death_rate\",\n",
    "                    \"new_deaths_range\"], axis=1)\n",
    "\n",
    "covid_df.info()"
   ]
  },
  {
   "cell_type": "code",
   "execution_count": 4,
   "metadata": {},
   "outputs": [
    {
     "name": "stdout",
     "output_type": "stream",
     "text": [
      "Size of the dataset: (34965, 13)\n",
      "Number of unique classes: 34965\n"
     ]
    }
   ],
   "source": [
    "print ('Size of the dataset:', covid_df.shape)\n",
    "print ('Number of unique classes:', len(covid_df.new_deaths))"
   ]
  },
  {
   "cell_type": "code",
   "execution_count": 5,
   "metadata": {},
   "outputs": [
    {
     "name": "stdout",
     "output_type": "stream",
     "text": [
      "[[9.80000000e-01 1.41150000e+04 4.63000000e+01 ... 5.00000000e-01\n",
      "  6.48300000e+01 5.11000000e-01]\n",
      " [3.23548387e-01 4.30000000e+02 3.79600000e+01 ... 5.06451613e-01\n",
      "  8.25900000e+01 5.45586022e-01]\n",
      " [1.16000000e+00 8.21700000e+03 5.18500000e+01 ... 6.00000000e-01\n",
      "  7.43000000e+01 6.63000000e-01]\n",
      " ...\n",
      " [1.18000000e+00 6.46436667e+04 4.24684211e+01 ... 2.10000000e+00\n",
      "  7.71500000e+01 7.77000000e-01]\n",
      " [2.23000000e+00 7.89200000e+03 3.34866667e+01 ... 1.20000000e+00\n",
      "  8.02300000e+01 8.48000000e-01]\n",
      " [8.00000000e-01 8.78800000e+03 5.27800000e+01 ... 1.70000000e+00\n",
      "  6.14900000e+01 5.71000000e-01]]\n",
      "[91.  0. 67. ... 10.  0. 13.]\n",
      "0         91.0\n",
      "3515       0.0\n",
      "13690     67.0\n",
      "21275    201.0\n",
      "31265      0.0\n",
      "         ...  \n",
      "14429      0.0\n",
      "3144       0.0\n",
      "31819     10.0\n",
      "26269      0.0\n",
      "34964     13.0\n",
      "Name: new_deaths, Length: 34965, dtype: float64\n"
     ]
    }
   ],
   "source": [
    "## KFold cross-validation\n",
    "\n",
    "#separate the predicting attribute into Y for model training\n",
    "covid_target = covid_df.new_deaths\n",
    "\n",
    "#separate the other attributes from the predicting attribute\n",
    "covid_df = covid_df.drop(\"new_deaths\",axis=1)\n",
    "\n",
    "## Define variables for the for loop\n",
    "kf = KFold(n_splits=10)\n",
    "RMSE_sum=0\n",
    "RMSE_length=10\n",
    "X = np.array(covid_df)\n",
    "y = np.array(covid_target)\n",
    "print(X)\n",
    "print(y)\n",
    "print(covid_target)"
   ]
  },
  {
   "cell_type": "code",
   "execution_count": 6,
   "metadata": {},
   "outputs": [
    {
     "name": "stdout",
     "output_type": "stream",
     "text": [
      "The Mean RMSE across all folds is 24996.518383436614\n"
     ]
    }
   ],
   "source": [
    "  for loop_number, (train, test) in enumerate(kf.split(X)):\n",
    "    \n",
    "    \n",
    "    ## Get Training Matrix and Vector\n",
    "\n",
    "    training_X_array = X[train]\n",
    "    training_y_array = y[train]\n",
    "\n",
    "    ## Get Testing Matrix Values\n",
    "\n",
    "    X_test_array = X[test]\n",
    "    y_actual_values = y[test]\n",
    "\n",
    "    ## Fit the Linear Regression Model\n",
    "\n",
    "    lr_model = LinearRegression().fit(training_X_array, training_y_array)\n",
    "\n",
    "    ## Compute the predictions for the test data\n",
    "\n",
    "    prediction = lr_model.predict(X_test_array)      \n",
    "    deaths_probabilites = np.array(prediction)   \n",
    "\n",
    "    ## Calculate the RMSE\n",
    "\n",
    "    RMSE_cross_fold = mean_squared_error(deaths_probabilites, y_actual_values)\n",
    "\n",
    "    ## Add each RMSE_cross_fold value to the sum\n",
    "\n",
    "    RMSE_sum=RMSE_cross_fold+RMSE_sum\n",
    "\n",
    "## Calculate the average and print    \n",
    "\n",
    "RMSE_cross_fold_avg=RMSE_sum/RMSE_length\n",
    "\n",
    "print('The Mean RMSE across all folds is',RMSE_cross_fold_avg)"
   ]
  },
  {
   "cell_type": "code",
   "execution_count": null,
   "metadata": {},
   "outputs": [],
   "source": []
  }
 ],
 "metadata": {
  "kernelspec": {
   "display_name": "Python 3",
   "language": "python",
   "name": "python3"
  },
  "language_info": {
   "codemirror_mode": {
    "name": "ipython",
    "version": 3
   },
   "file_extension": ".py",
   "mimetype": "text/x-python",
   "name": "python",
   "nbconvert_exporter": "python",
   "pygments_lexer": "ipython3",
   "version": "3.8.5"
  }
 },
 "nbformat": 4,
 "nbformat_minor": 5
}
