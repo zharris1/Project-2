{
 "cells": [
  {
   "cell_type": "markdown",
   "metadata": {},
   "source": [
    "<h1><center>Lab 2: Classification</center></h1>\n",
    "<h3><center>A Deeper Analysis of Covid-19 Data</center></h3>\n",
    "<p><center>DS 7331</center></p>\n",
    "<p><center>Created by Sadik Aman, Dawn Bowerman, Zachary Harris, Alexandre Jasserme</center></p>\n",
    "\n"
   ]
  },
  {
   "cell_type": "markdown",
   "metadata": {},
   "source": [
    "## Data Preparation \n",
    "\n",
    "> [10 points] Define and prepare your class variables. Use proper variable representations\n",
    "(int, float, one-hot, etc.). Use pre-processing methods (as needed) for dimensionality\n",
    "reduction, scaling, etc. Remove variables that are not needed/useful for the analysis.\n",
    "\n",
    "\n",
    "\n",
    "```python\n",
    "\n",
    "```\n",
    "\n",
    " > [5 points] Describe the final dataset that is used for classification/regression (include a\n",
    "description of any newly formed variables you created).\n",
    "\n",
    "\n",
    "```python\n",
    "\n",
    "```\n",
    "\n"
   ]
  },
  {
   "cell_type": "markdown",
   "metadata": {},
   "source": [
    "## Modeling and Evaluation\n",
    "\n",
    "> [10 points] Choose and explain your evaluation metrics that you will use (i.e., accuracy,\n",
    "precision, recall, F-measure, or any metric we have discussed). Why are the measure(s)\n",
    "appropriate for analyzing the results of your modeling? Give a detailed explanation backing\n",
    "up any assertions.\n",
    "\n",
    "\n",
    "```python\n",
    "\n",
    "```\n",
    "\n",
    "> [10 points] Choose the method you will use for dividing your data into training and testing\n",
    "splits (i.e., are you using Stratified 10-fold cross validation? Why?). Explain why your chosen\n",
    "method is appropriate or use more than one method as appropriate. For example, if you are\n",
    "using time series data then you should be using continuous training and testing sets across\n",
    "time.\n",
    "\n",
    "\n",
    "```python\n",
    "\n",
    "```\n",
    "\n",
    "> [20 points] Create three different classification/regression models for each task (e.g.,\n",
    "random forest, KNN, and SVM for task one and the same or different algorithms for task\n",
    "two). Two modeling techniques must be new (but the third could be SVM or logistic\n",
    "regression). Adjust parameters as appropriate to increase generalization performance using\n",
    "your chosen metric. You must investigate different parameters of the algorithms!\n",
    "\n",
    "\n",
    "```python\n",
    "\n",
    "```\n",
    "\n",
    "> [10 points] Analyze the results using your chosen method of evaluation. Use visualizations\n",
    "of the results to bolster the analysis. Explain any visuals and analyze why they are\n",
    "interesting to someone that might use this model.\n",
    "\n",
    "\n",
    "```python\n",
    "\n",
    "```\n",
    "\n",
    "> [10 points] Discuss the advantages of each model for each classification task, if any. If\n",
    "there are not advantages, explain why. Is any model better than another? Is the difference\n",
    "significant with 95% confidence? Use proper statistical comparison methods. You must use\n",
    "statistical comparison techniques—be sure they are appropriate for your chosen method of\n",
    "validation as discussed in unit 7 of the course.\n",
    "MSDS 7331 Course Overview & Schedule 20 \n",
    "\n",
    "\n",
    "```python\n",
    "\n",
    "```\n",
    "\n",
    "> [10 points] Which attributes from your analysis are most important? Use proper methods\n",
    "discussed in class to evaluate the importance of different attributes. Discuss the results and\n",
    "hypothesize about why certain attributes are more important than others for a given\n",
    "classification task.\n",
    "\n",
    "\n",
    "```python\n",
    "\n",
    "```"
   ]
  },
  {
   "cell_type": "markdown",
   "metadata": {},
   "source": [
    "## Deployment\n",
    "\n",
    ">  [5 points total] How useful is your model for interested parties (i.e., the companies or organizations that\n",
    "might want to use it for prediction)? How would you measure the model's value if it was used\n",
    "by these parties? How would you deploy your model for interested parties? What other data\n",
    "should be collected? How often would the model need to be updated, etc.?\n",
    "\n",
    "\n",
    "```python\n",
    "\n",
    "```"
   ]
  },
  {
   "cell_type": "markdown",
   "metadata": {},
   "source": [
    "## Exceptional Work\n",
    "\n",
    ">  [10 points total]  You have free reign to provide additional analyses.\n",
    "• One idea: grid search parameters in a parallelized fashion and visualize the performances\n",
    "across attributes. Which parameters are most significant for making a good model for each\n",
    "classification algorithm?\n",
    "\n",
    "\n",
    "```python\n",
    "\n",
    "```\n",
    "\n"
   ]
  },
  {
   "cell_type": "code",
   "execution_count": null,
   "metadata": {},
   "outputs": [],
   "source": []
  }
 ],
 "metadata": {
  "kernelspec": {
   "display_name": "Python 3",
   "language": "python",
   "name": "python3"
  },
  "language_info": {
   "codemirror_mode": {
    "name": "ipython",
    "version": 3
   },
   "file_extension": ".py",
   "mimetype": "text/x-python",
   "name": "python",
   "nbconvert_exporter": "python",
   "pygments_lexer": "ipython3",
   "version": "3.8.5"
  }
 },
 "nbformat": 4,
 "nbformat_minor": 4
}
